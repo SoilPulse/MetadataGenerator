{
 "cells": [
  {
   "cell_type": "code",
   "execution_count": 1,
   "id": "a0eaf39a-b2d6-4fb7-8412-9dd95801f437",
   "metadata": {},
   "outputs": [],
   "source": [
    "from src.soilpulse.dataset_loader import *\n",
    "import matplotlib.pyplot as plt"
   ]
  },
  {
   "cell_type": "code",
   "execution_count": 2,
   "id": "5d970332-6acc-420b-9528-c3e0c944fa95",
   "metadata": {},
   "outputs": [],
   "source": [
    "TUBAF = load_sp_datapackage({\"sourcedir\": \"catalogue/temp_1/\"})\n",
    "#TUBAF"
   ]
  },
  {
   "cell_type": "code",
   "execution_count": 3,
   "id": "c4cf8736-c247-4df3-b5ec-28587c744f5f",
   "metadata": {},
   "outputs": [],
   "source": [
    "templates = {\n",
    "'runoff_coefficient': {\n",
    "    'field':{\n",
    "    'concept': 'https://dbpedia.org/resource/Runoff_curve_number', # concept for  \n",
    "    'unit': '[%]',\n",
    "    'method': 'df[\"runoff_coefficient\"] = round(df.Q_OF_mean_selected/ df.P_mean_selected * 100, 1)'},\n",
    "    'requires':\n",
    "    [\n",
    "        {'alternative_concept': 'https://dbpedia.org/resource/Runoff',\n",
    "         'concept': 'http://aims.fao.org/aos/agrovoc/c_35388',\n",
    "         'name': 'runoff_volume',\n",
    "         'unit': '[mm]',\n",
    "         'method': 'runoff_volume'\n",
    "        },\n",
    "        {'alternative_concept': 'https://dbpedia.org/resource/Rain',\n",
    "         'concept': 'http://aims.fao.org/aos/agrovoc/c_36860',\n",
    "         'name': 'rainfall_volume',\n",
    "         'unit': '[mm]',\n",
    "         'method': 'rainfall_volume'\n",
    "        }\n",
    "    ]\n",
    "},\n",
    "\n",
    "'runoff_volume': {\n",
    "    'target_concept': 'https://dbpedia.org/resource/Runoff',\n",
    "    'target_unit': '[mm]',\n",
    "    'target_method': 'df_target = df.pivot_table(values=[\"P_mean_selected\",\"Q_OF_mean_selected\"], columns=[\"Site_number\",\"Experiment_numbe\"], aggfunc=\"sum\", dropna=True)',\n",
    "    'requires':\n",
    "    [\n",
    "        {'concept': 'https://dbpedia.org/resource/Runoff',\n",
    "         'alternative_concept': 'http://aims.fao.org/aos/agrovoc/c_35388',\n",
    "         'name': 'runoff_rate',\n",
    "         'unit': '[mm]',\n",
    "        },\n",
    "        {'concept': 'http://aims.fao.org/aos/agrovoc/c_7778',\n",
    "         'name': 'duration',\n",
    "         'unit': '[mm]'\n",
    "        }\n",
    "    ]\n",
    "},\n",
    "\n",
    "'runoff_volume': {\n",
    "    'target_concept': 'https://dbpedia.org/resource/Runoff',\n",
    "    'target_unit': '[l]',\n",
    "    'target_method': 'runoff_volume = [sum_timesteps(\"ruoff_rate * duration\") for row in data.rows \"]', # we need to aggregate timesteps here\n",
    "    'requires':\n",
    "    [\n",
    "        {'concept': 'https://dbpedia.org/resource/Runoff',\n",
    "         'alternative_concept': 'http://aims.fao.org/aos/agrovoc/c_35388',\n",
    "         'name': 'runoff_rate',\n",
    "         'unit': '[l/s]',\n",
    "        },\n",
    "        {'concept': 'http://aims.fao.org/aos/agrovoc/c_7778',\n",
    "         'name': 'duration',\n",
    "         'unit': '[s]'\n",
    "        }\n",
    "    ]\n",
    "},\n",
    "\n",
    "'rainfall_volume': {\n",
    "    'target_concept': 'https://dbpedia.org/resource/Rain',  \n",
    "    'target_unit': '[l]',\n",
    "    'target_method': 'ruoff_volume = [sum_timesteps(\"rainfall_rate * duration\", id) for id in data.ids \"]', # we need to aggregate timesteps here\n",
    "    'requires':\n",
    "    [\n",
    "        {'concept': 'https://dbpedia.org/resource/Rain',\n",
    "         'alternative_concept': 'http://aims.fao.org/aos/agrovoc/c_36860',\n",
    "         'name': 'rainfall_rate',\n",
    "         'unit': '[l/s]'\n",
    "        },\n",
    "        {'concept': 'http://aims.fao.org/aos/agrovoc/c_7778',\n",
    "         'name': 'duration',\n",
    "         'unit': '[s]'\n",
    "        }\n",
    "    ]\n",
    "}\n",
    "}\n",
    "#def sum_timesteps(operation, data):\n",
    "#    ... see Jonas dissertation functions...{\n",
    "# rainfall https://github.com/jonaslenz/diss/blob/gitbook/database/hydraulic_func.R#L45-L59\n",
    "# runoff https://github.com/jonaslenz/diss/blob/gitbook/database/hydraulic_func.R#L29-L43"
   ]
  },
  {
   "cell_type": "code",
   "execution_count": 4,
   "id": "23c4ccfa-89be-4fa7-ac42-8a17dd1bb5e5",
   "metadata": {},
   "outputs": [
    {
     "name": "stdout",
     "output_type": "stream",
     "text": [
      "{'field': {'concept': 'https://dbpedia.org/resource/Runoff_curve_number', 'unit': '[%]', 'method': 'df[\"runoff_coefficient\"] = round(df.Q_OF_mean_selected/ df.P_mean_selected * 100, 1)'}, 'requires': [{'alternative_concept': 'https://dbpedia.org/resource/Runoff', 'concept': 'http://aims.fao.org/aos/agrovoc/c_35388', 'name': 'runoff_volume', 'unit': '[mm]', 'method': 'runoff_volume'}, {'alternative_concept': 'https://dbpedia.org/resource/Rain', 'concept': 'http://aims.fao.org/aos/agrovoc/c_36860', 'name': 'rainfall_volume', 'unit': '[mm]', 'method': 'rainfall_volume'}]}\n",
      "going deeper\n"
     ]
    },
    {
     "data": {
      "text/plain": [
       "{'resources': [{'name': 'time',\n",
       "                'type': 'table',\n",
       "                'data': [],\n",
       "                'scheme': '',\n",
       "                'format': 'inline',\n",
       "                'mediatype': 'text/csv',\n",
       "                'extrapaths': [],\n",
       "                'schema': {'fields': [{'name': 'No',\n",
       "                                       'type': 'string',\n",
       "                                       'concept': 'own:ForeignKey',\n",
       "                                       'unit': '',\n",
       "                                       'method': 'own:defined'},\n",
       "                                      {'name': 'time',\n",
       "                                       'type': 'integer',\n",
       "                                       'concept': 'time, timedelta',\n",
       "                                       'unit': 's',\n",
       "                                       'method': 'stopwatch'},\n",
       "                                      {'name': 'rainfall',\n",
       "                                       'type': 'number',\n",
       "                                       'concept': 'http://aims.fao.org/aos/agrovoc/c_36860',\n",
       "                                       'unit': 'm*m*m/s',\n",
       "                                       'method': 'own:rainfall intensity valid '\n",
       "                                                 'in the preceding time '\n",
       "                                                 'interval'}],\n",
       "                           'missingValues': ['NA', ''],\n",
       "                           'primaryKey': ['No', 'time'],\n",
       "                           'foreignKeys': [{'fields': ['No'],\n",
       "                                            'reference': {'resource': 'meta',\n",
       "                                                          'fields': ['No']}}]}}]}"
      ]
     },
     "execution_count": 4,
     "metadata": {},
     "output_type": "execute_result"
    }
   ],
   "source": [
    "a = templates['runoff_coefficient']\n",
    "print(a)\n",
    "b = get_sp_data(TUBAF,\n",
    "                fielddefinition=[\n",
    "                    a['field']\n",
    "                ]\n",
    "               )\n",
    "if b.resources == []:\n",
    "    print('going deeper')\n",
    "    b = get_sp_data(TUBAF,\n",
    "                fielddefinition=[{'concept': x['concept']} for x in a['requires']]\n",
    "               )\n",
    "b"
   ]
  },
  {
   "cell_type": "code",
   "execution_count": 23,
   "id": "a6f2a09a-6a8e-47aa-ae2e-9bc2a20829b2",
   "metadata": {},
   "outputs": [],
   "source": [
    "a = get_sp_data(TUBAF,\n",
    "                fielddefinition=[{'name': 'soilloss'}, {'name': 'rainfall'}]\n",
    "               )\n",
    "view = merge_foreign_keys(a)\n",
    "for z in view.resources:\n",
    "    z.open()\n",
    "    z.close()\n",
    "b = view.resources[1].to_pandas()"
   ]
  },
  {
   "cell_type": "code",
   "execution_count": 24,
   "id": "f00fbac7-119a-4a8f-b174-4d05ef7d751d",
   "metadata": {},
   "outputs": [
    {
     "data": {
      "text/plain": [
       "No   time\n",
       "102  1440    0.000002\n",
       "     1500    0.000002\n",
       "     1560    0.000002\n",
       "     1620    0.000002\n",
       "     1680    0.000002\n",
       "dtype: float64"
      ]
     },
     "execution_count": 24,
     "metadata": {},
     "output_type": "execute_result"
    }
   ],
   "source": [
    "mod = b.rainfall*b.soilloss\n",
    "mod.head()"
   ]
  },
  {
   "cell_type": "code",
   "execution_count": 25,
   "id": "6e7c293f-1ba4-4541-a449-4c1753ee4aa8",
   "metadata": {},
   "outputs": [
    {
     "data": {
      "text/plain": [
       "<AxesSubplot: xlabel='No,time'>"
      ]
     },
     "execution_count": 25,
     "metadata": {},
     "output_type": "execute_result"
    },
    {
     "data": {
      "image/png": "[encoded data removed]",
      "text/plain": [
       "<Figure size 640x480 with 1 Axes>"
      ]
     },
     "metadata": {},
     "output_type": "display_data"
    }
   ],
   "source": [
    "b.plot()"
   ]
  },
  {
   "cell_type": "code",
   "execution_count": null,
   "id": "8c01f633-83e7-4c9a-9781-a253aa84d145",
   "metadata": {},
   "outputs": [],
   "source": [
    "TUBAF = load_sp_datapackage({\"sourcedir\": \"catalogue/temp_1/\"})\n",
    "view_sp_resource(TUBAF.resources[0], fields = ['SigP'], row_filters = ['SigP >9', 'SigP < 12']).to_pandas()\n",
    "\n",
    "get_dataset_concepts(TUBAF)\n",
    "get_sp_data(TUBAF, fielddefinition=[{'name': 'SigP'}])\n",
    "view = merge_foreign_keys(\n",
    "    get_sp_data(\n",
    "        TUBAF,\n",
    "        fielddefinition=[\n",
    "            {'name': 'SigP',\n",
    "             'row_filters': ['No == \"8\"']\n",
    "             },\n",
    "            {'unit': 'g/l',\n",
    "             'row_filters': ['not sedconc == None', 'No == \"8\"']\n",
    "             }\n",
    "            ]\n",
    "        )\n",
    "    )\n",
    "\n",
    "view = get_sp_data(\n",
    "    TUBAF,\n",
    "    fielddefinition=[\n",
    "        {'name': 'SigP',\n",
    "         'row_filters': ['SigP > 10']\n",
    "         },\n",
    "        {'unit': 'g/l',\n",
    "         'row_filters': ['not sedconc == None and sedconc >=300']\n",
    "         }\n",
    "        ]\n",
    "    )\n",
    "\n",
    "\n",
    "view = merge_foreign_keys(\n",
    "    get_sp_data(\n",
    "        TUBAF,\n",
    "        fielddefinition=[\n",
    "            {'name': 'SigP',\n",
    "             'row_filters': ['No == \"8\"']\n",
    "             },\n",
    "            {'unit': 'g/l',\n",
    "             'row_filters': ['not sedconc == None', 'No == \"8\"']\n",
    "             }\n",
    "            ]\n",
    "        )\n",
    "    )\n",
    "\n",
    "try:\n",
    "    view.extract()\n",
    "except:\n",
    "    view.extract()\n",
    "\n",
    "# model requirements can be defined by row constraints\n",
    "#from frictionless import validate, checks, transform\n",
    "#validate(TUBAF.resources[0],\n",
    "#         checks=[\n",
    "#             checks.row_constraint(formula=\"fSi + mSi + cSi == SILT\"),\n",
    "#             checks.row_constraint(formula=\"fSa + mSa + cSa == SAND\"),\n",
    "#             checks.row_constraint(formula=\"SILT + SAND + CLAY == 100\")\n",
    "#             ]\n",
    "#         )\n",
    "TUBAF.resources[1].to_pandas().head()"
   ]
  }
 ],
 "metadata": {
  "kernelspec": {
   "display_name": "Python 3 (ipykernel)",
   "language": "python",
   "name": "python3"
  },
  "language_info": {
   "codemirror_mode": {
    "name": "ipython",
    "version": 3
   },
   "file_extension": ".py",
   "mimetype": "text/x-python",
   "name": "python",
   "nbconvert_exporter": "python",
   "pygments_lexer": "ipython3",
   "version": "3.11.7"
  }
 },
 "nbformat": 4,
 "nbformat_minor": 5
}
