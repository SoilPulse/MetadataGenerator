{
 "cells": [
  {
   "cell_type": "markdown",
   "id": "28164d02-8c37-4572-b451-af891e5d8e19",
   "metadata": {},
   "source": [
    "# This notebook demonstrates the query to get all necessary data to calculate runoff coefficients"
   ]
  },
  {
   "cell_type": "code",
   "execution_count": null,
   "id": "6ca132f3-b5d7-4016-b3a2-dbc8c028fd11",
   "metadata": {},
   "outputs": [],
   "source": [
    "1+1"
   ]
  },
  {
   "cell_type": "code",
   "execution_count": null,
   "id": "624b419a-215e-470a-909f-2f7c1e5abfc6",
   "metadata": {},
   "outputs": [],
   "source": []
  }
 ],
 "metadata": {
  "kernelspec": {
   "display_name": "Python 3 (ipykernel)",
   "language": "python",
   "name": "python3"
  },
  "language_info": {
   "codemirror_mode": {
    "name": "ipython",
    "version": 3
   },
   "file_extension": ".py",
   "mimetype": "text/x-python",
   "name": "python",
   "nbconvert_exporter": "python",
   "pygments_lexer": "ipython3",
   "version": "3.11.7"
  }
 },
 "nbformat": 4,
 "nbformat_minor": 5
}
