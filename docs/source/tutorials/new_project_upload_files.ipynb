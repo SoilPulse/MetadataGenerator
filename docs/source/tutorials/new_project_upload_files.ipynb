{
 "cells": [
  {
   "cell_type": "markdown",
   "id": "dddb93fd-84e6-428c-ba98-175d2860d60c",
   "metadata": {},
   "source": [
    "# get started\n",
    "First import the soilpulsecore package and get storage connection through NullConnector - the project structure and all project-related data will be managed in dedicated filesystem directory in user's home dictionary depending on operating system.\n",
    "\n",
    "Then establish new project without providing DOI and name it \"SoilPulse testing\".\n",
    "In case of filesystem stored SoilPulse project (using NullConnector) the user_id parameter is not relevant and all projects are accessible to local user"
   ]
  },
  {
   "cell_type": "code",
   "execution_count": 24,
   "id": "e9764c91-5a93-4f15-8cf4-840503e03c55",
   "metadata": {},
   "outputs": [
    {
     "name": "stdout",
     "output_type": "stream",
     "text": [
      "failed to load concept vocabulary 'AGROVOC' from 'vocabularies\\agrovoc.json'\n",
      "failed to load concept vocabulary 'TestConceptVocabulary' from 'vocabularies\\_concepts_vocabulary_1.json'\n",
      "failed to load method vocabulary 'TestMethodsVocabulary' from 'vocabularies\\_methods_vocabulary_1.json'\n",
      "loaded methods vocabularies: \n",
      "failed to load units vocabulary 'TestUnitsVocabulary' from 'vocabularies\\_units_vocabulary_1.json'\n",
      "loaded units vocabularies: \n",
      "doi: 'None'\n",
      "Empty DOI provided. DOI metadata were not retrieved.\n"
     ]
    }
   ],
   "source": [
    "from soilpulsecore.db_access import NullConnector\n",
    "from soilpulsecore.project_management import *\n",
    "from soilpulsecore.resource_managers import filesystem, data_structures, json\n",
    "\n",
    "dbcon = NullConnector()\n",
    "project = ProjectManager(dbcon, user_id=1, name=\"SoilPulse testing\")"
   ]
  },
  {
   "cell_type": "markdown",
   "id": "75852880-8dca-4cec-b698-0e54b089f35c",
   "metadata": {},
   "source": [
    "To make sure the project was successfuly created we can print out its ID and name"
   ]
  },
  {
   "cell_type": "code",
   "execution_count": 25,
   "id": "d0e6a22c-9406-489e-ba4e-5d16fce238c2",
   "metadata": {},
   "outputs": [
    {
     "name": "stdout",
     "output_type": "stream",
     "text": [
      "7 - SoilPulse testing\n"
     ]
    }
   ],
   "source": [
    "print(f\"{project.id} - {project.name}\")"
   ]
  },
  {
   "cell_type": "markdown",
   "id": "09bef619-f8ad-4d12-8a48-28ba764de0e5",
   "metadata": {},
   "source": [
    "To include some data in the project, let's upload a file from disc.\n",
    "And display the created containers structure."
   ]
  },
  {
   "cell_type": "code",
   "execution_count": 26,
   "id": "f851a09b-4e43-4e90-be25-26dd716afaf3",
   "metadata": {},
   "outputs": [
    {
     "name": "stdout",
     "output_type": "stream",
     "text": [
      "Container 1 was already analyzed.\n",
      "\n",
      "================================================================================\n",
      "SoilPulse testing\n",
      "container tree:\n",
      "--------------------------------------------------------------------------------\n",
      "1 - runoffdb_excerpt.csv (file, 56.2 kB, 18.11.2024/18.11.2024) [1]  >root\n",
      ". 2 - runoffdb_excerpt (table - table) [20] ^1\n",
      ". . 3 - locality (column - column) [0] ^2\n",
      ". . 4 - latitude (column - column) [0] ^2\n",
      ". . 5 - longitude (column - column) [0] ^2\n",
      ". . 6 - run ID (column - column) [0] ^2\n",
      ". . 7 - date (column - column) [0] ^2\n",
      ". . 8 - plot ID (column - column) [0] ^2\n",
      ". . 9 - simulator (column - column) [0] ^2\n",
      ". . 10 - crop (column - column) [0] ^2\n",
      ". . 11 - crop type (column - column) [0] ^2\n",
      ". . 12 - initial cond. (column - column) [0] ^2\n",
      ". . 13 - init. moisture (column - column) [0] ^2\n",
      ". . 14 - canopy cover (column - column) [0] ^2\n",
      ". . 15 - BBCH (column - column) [0] ^2\n",
      ". . 16 - rain intensity [mm.h^-1] (column - column) [0] ^2\n",
      ". . 17 - time to runoff (column - column) [0] ^2\n",
      ". . 18 - bulk density [g.cm^-3] (column - column) [0] ^2\n",
      ". . 19 - total time [s] (column - column) [0] ^2\n",
      ". . 20 - total rainfall [mm.h^-1] (column - column) [0] ^2\n",
      ". . 21 - total discharge [l] (column - column) [0] ^2\n",
      ". . 22 - total soil loss [g] (column - column) [0] ^2\n",
      "================================================================================\n",
      "\n",
      "\n"
     ]
    }
   ],
   "source": [
    "project.uploadFilesFromSession(\"d:\\\\downloads\\\\runoffdb_excerpt.csv\")\n",
    "project.showContainerTree()"
   ]
  },
  {
   "cell_type": "markdown",
   "id": "d113b39c-1ba4-4524-b414-2b26f484be3c",
   "metadata": {},
   "source": [
    "Each data element currently present in projects structure has its unique ID which is shown in front of the contianer details.\n",
    "\n",
    "Though it is possible to work with all data on the project level, it it usefull to strucure related resources in a dataset.\n",
    "New dataset is created within project by specifying its name:"
   ]
  },
  {
   "cell_type": "code",
   "execution_count": 27,
   "id": "31220dad-d2e4-4d74-ad3b-f89b7b724587",
   "metadata": {},
   "outputs": [],
   "source": [
    "ds = project.createDataset(\"CTU RunoffDB excerpt\")"
   ]
  },
  {
   "cell_type": "markdown",
   "id": "c66c5d79-79f2-4dae-a11a-25da4630ab6f",
   "metadata": {},
   "source": [
    "Newly created dataset is empty and containers with resources must be added into it.\n",
    "Container be can for example obtained from project by its ID.\n",
    "note: adding the file container or the table container within doesn't really matter as all procedures should work for both cases"
   ]
  },
  {
   "cell_type": "code",
   "execution_count": 28,
   "id": "330383c2-6518-4744-b782-c11d773ba95f",
   "metadata": {},
   "outputs": [],
   "source": [
    "table = project.getContainerByID(2)\n",
    "ds.addContainer(table)"
   ]
  },
  {
   "cell_type": "markdown",
   "id": "97a18567-c81f-4bda-a254-da4aa3f7a906",
   "metadata": {},
   "source": [
    "The container added to dataset still contains all of its subcontainers.\n",
    "We may check that by printing contents of the dataset"
   ]
  },
  {
   "cell_type": "code",
   "execution_count": 29,
   "id": "13c3ddac-ed31-4817-9767-b47a5589f0c8",
   "metadata": {},
   "outputs": [
    {
     "name": "stdout",
     "output_type": "stream",
     "text": [
      "\n",
      "==== CTU RunoffDB excerpt ============================================================ #1\n",
      "---- container tree: ----\n",
      "2 - runoffdb_excerpt (table - table) [20] ^1\n",
      ". 3 - locality (column - column) [0] ^2\n",
      ". 4 - latitude (column - column) [0] ^2\n",
      ". 5 - longitude (column - column) [0] ^2\n",
      ". 6 - run ID (column - column) [0] ^2\n",
      ". 7 - date (column - column) [0] ^2\n",
      ". 8 - plot ID (column - column) [0] ^2\n",
      ". 9 - simulator (column - column) [0] ^2\n",
      ". 10 - crop (column - column) [0] ^2\n",
      ". 11 - crop type (column - column) [0] ^2\n",
      ". 12 - initial cond. (column - column) [0] ^2\n",
      ". 13 - init. moisture (column - column) [0] ^2\n",
      ". 14 - canopy cover (column - column) [0] ^2\n",
      ". 15 - BBCH (column - column) [0] ^2\n",
      ". 16 - rain intensity [mm.h^-1] (column - column) [0] ^2\n",
      ". 17 - time to runoff (column - column) [0] ^2\n",
      ". 18 - bulk density [g.cm^-3] (column - column) [0] ^2\n",
      ". 19 - total time [s] (column - column) [0] ^2\n",
      ". 20 - total rainfall [mm.h^-1] (column - column) [0] ^2\n",
      ". 21 - total discharge [l] (column - column) [0] ^2\n",
      ". 22 - total soil loss [g] (column - column) [0] ^2\n",
      "================================================================================\n",
      "\n"
     ]
    }
   ],
   "source": [
    "ds.showContents()"
   ]
  },
  {
   "cell_type": "markdown",
   "id": "1bc2956d-01b1-49f1-9cc1-f0c896140169",
   "metadata": {},
   "source": [
    "To perform content analysis based on own translation dictionaries we must first load them to the project.\n",
    "To ensure propper loading of the translation we may print content of the dictionaries in structured manner by ProjectManager's method."
   ]
  },
  {
   "cell_type": "code",
   "execution_count": 34,
   "id": "530dfdb1-b4d9-4af6-b6cb-f61bb9a4b721",
   "metadata": {},
   "outputs": [],
   "source": [
    "project.updateUnitsTranslationsFromFile(\"d:\\\\downloads\\\\bracket_units.json\")\n",
    "project.updateConceptsTranslationsFromFile(\"d:\\\\downloads\\\\runoffdb_concepts.json\")\n",
    "# project.showDictionaries()"
   ]
  },
  {
   "cell_type": "markdown",
   "id": "0f287dc1-2dce-41ba-84a3-58136a2e2395",
   "metadata": {},
   "source": [
    "Now concepts/parameters, methods and units can be searched for in the dataset.\n",
    "The 'force' parameter makes the crawler do the crawling even if the container was already crawled and previous values will be overwritten."
   ]
  },
  {
   "cell_type": "code",
   "execution_count": 31,
   "id": "82eef19c-2ba0-429c-990f-21fc44edb4fe",
   "metadata": {},
   "outputs": [],
   "source": [
    "ds.getCrawled(force=True)"
   ]
  },
  {
   "cell_type": "markdown",
   "id": "9aa3d6a9-0ba0-4645-bee9-4afee4e4ed50",
   "metadata": {},
   "source": [
    "To check the results of the vocabularies and dictionaries search we can again print out the dataset's contents"
   ]
  },
  {
   "cell_type": "code",
   "execution_count": 32,
   "id": "e1354230-e01b-440c-a2bb-6c9271de9359",
   "metadata": {},
   "outputs": [
    {
     "name": "stdout",
     "output_type": "stream",
     "text": [
      "\n",
      "==== CTU RunoffDB excerpt ============================================================ #1\n",
      "---- container tree: ----\n",
      "2 - runoffdb_excerpt (table - table) [20] ^1\n",
      ". 3 - locality (column - column) [0] ^2\n",
      "    concepts:\n",
      "      locality: 'locality' locality@ownvocab (*own)\n",
      ". 4 - latitude (column - column) [0] ^2\n",
      ". 5 - longitude (column - column) [0] ^2\n",
      ". 6 - run ID (column - column) [0] ^2\n",
      ". 7 - date (column - column) [0] ^2\n",
      "    concepts:\n",
      "      date: 'date of experiment' date_of_experiment@ownvocab (methodic)\n",
      ". 8 - plot ID (column - column) [0] ^2\n",
      ". 9 - simulator (column - column) [0] ^2\n",
      "    concepts:\n",
      "      simulator: 'rainfall simulator' rainfall_simulator@ownvocab (*own)\n",
      ". 10 - crop (column - column) [0] ^2\n",
      ". 11 - crop type (column - column) [0] ^2\n",
      ". 12 - initial cond. (column - column) [0] ^2\n",
      ". 13 - init. moisture (column - column) [0] ^2\n",
      "    concepts:\n",
      "      init. moisture: 'initial moisture' initial_moisture@ownvocab (*own)\n",
      ". 14 - canopy cover (column - column) [0] ^2\n",
      "    concepts:\n",
      "      canopy cover: 'canopy cover' canopy_cover@ownvocab (*own)\n",
      ". 15 - BBCH (column - column) [0] ^2\n",
      "    concepts:\n",
      "      bbch: 'BBCH' bbch@ownvocab (*own)\n",
      ". 16 - rain intensity [mm.h^-1] (column - column) [0] ^2\n",
      ". 17 - time to runoff (column - column) [0] ^2\n",
      "    concepts:\n",
      "      time to runoff: 'time to runoff' time_to_runoff@ownvocab (*own)\n",
      ". 18 - bulk density [g.cm^-3] (column - column) [0] ^2\n",
      ". 19 - total time [s] (column - column) [0] ^2\n",
      ". 20 - total rainfall [mm.h^-1] (column - column) [0] ^2\n",
      ". 21 - total discharge [l] (column - column) [0] ^2\n",
      ". 22 - total soil loss [g] (column - column) [0] ^2\n",
      "================================================================================\n",
      "\n"
     ]
    }
   ],
   "source": [
    "ds.showContents()"
   ]
  },
  {
   "cell_type": "markdown",
   "id": "b47eb909-ab5a-4f29-9ea1-d8a67d9e4f03",
   "metadata": {},
   "source": [
    "To save the project's current state we call the ProjectManager's method to update its storage record."
   ]
  },
  {
   "cell_type": "code",
   "execution_count": 33,
   "id": "369c9226-076c-4b1f-bb95-75684b7ec56e",
   "metadata": {},
   "outputs": [
    {
     "name": "stdout",
     "output_type": "stream",
     "text": [
      "\n",
      "Saving project \"SoilPulse testing\" with ID 7 ... \n",
      "\tcontainers saved\n",
      "\tdatasets saved\n",
      "\tconcepts vocabulary saved\n",
      "\tmethods vocabulary saved\n",
      "\tunits vocabulary saved\n",
      " ... successful.\n"
     ]
    }
   ],
   "source": [
    "project.updateDBrecord()"
   ]
  }
 ],
 "metadata": {
  "kernelspec": {
   "display_name": "Python 3 (ipykernel)",
   "language": "python",
   "name": "python3"
  },
  "language_info": {
   "codemirror_mode": {
    "name": "ipython",
    "version": 3
   },
   "file_extension": ".py",
   "mimetype": "text/x-python",
   "name": "python",
   "nbconvert_exporter": "python",
   "pygments_lexer": "ipython3",
   "version": "3.11.9"
  }
 },
 "nbformat": 4,
 "nbformat_minor": 5
}
